{
 "cells": [
  {
   "cell_type": "code",
   "execution_count": 1,
   "metadata": {},
   "outputs": [],
   "source": [
    "import pymongo\n",
    "from pymongo import MongoClient\n",
    "import json\n",
    "import os\n",
    "import matplotlib as mpl\n",
    "import matplotlib.pyplot as plt\n",
    "import seaborn as sns\n",
    "import pandas as pd"
   ]
  },
  {
   "cell_type": "markdown",
   "metadata": {},
   "source": [
    "# Creating a dataframe consisting only the 1 lakh records since the file is huge."
   ]
  },
  {
   "cell_type": "code",
   "execution_count": 24,
   "metadata": {},
   "outputs": [],
   "source": [
    "mymongo=pymongo.MongoClient('mongodb://127.0.0.1:27017/')"
   ]
  },
  {
   "cell_type": "code",
   "execution_count": 25,
   "metadata": {},
   "outputs": [],
   "source": [
    "Yelp_Users=mymongo[\"mydatabase\"]"
   ]
  },
  {
   "cell_type": "code",
   "execution_count": 26,
   "metadata": {},
   "outputs": [],
   "source": [
    "Yelp_User_Cluster=Yelp_Users[\"Yelp_User\"]"
   ]
  },
  {
   "cell_type": "code",
   "execution_count": 27,
   "metadata": {},
   "outputs": [],
   "source": [
    "import collections\n",
    "users = []\n",
    "odbcArray=[]\n",
    "with open('C:/Users/Prithvi dayanand/Desktop/DAP/yelp_user/yelp_academic_dataset_user.json', errors='ignore') as fl:\n",
    "    for i, line in enumerate(fl):\n",
    "        doc = collections.OrderedDict()\n",
    "        doc['user_id'] = json.loads(line)[\"user_id\"]\n",
    "        doc['name']=json.loads(line)['name']\n",
    "        doc['review_count']=json.loads(line)['review_count']\n",
    "        doc['yelping_since']=json.loads(line)['yelping_since']\n",
    "        doc['useful']=json.loads(line)['useful']\n",
    "        doc['funny']=json.loads(line)['funny']\n",
    "        doc['cool']=json.loads(line)['cool']\n",
    "        doc['elite']=json.loads(line)['elite']\n",
    "        doc['friends']=json.loads(line)['friends']\n",
    "        doc['fans']=json.loads(line)['fans']\n",
    "        doc['compliment_more']=json.loads(line)['compliment_more']\n",
    "        doc['compliment_profilecompliment_profile']=json.loads(line)['compliment_profile']\n",
    "        doc['compliment_cute']=json.loads(line)['compliment_cute']\n",
    "        doc['compliment_list']=json.loads(line)['compliment_list']\n",
    "        doc['compliment_note']=json.loads(line)['compliment_note']\n",
    "        doc['compliment_plain']=json.loads(line)['compliment_plain']\n",
    "        doc['compliment_cool']=json.loads(line)['compliment_cool']\n",
    "        doc['compliment_funny']=json.loads(line)['compliment_funny']\n",
    "        doc['compliment_writer']=json.loads(line)['compliment_writer']\n",
    "        doc['compliment_photos']=json.loads(line)['compliment_photos']\n",
    "        \n",
    "        odbcArray.append(doc)\n",
    "        if i+1 >= 10 :\n",
    "            break\n",
    "x=Yelp_User_Cluster.insert_many(odbcArray)\n",
    "        \n",
    "        "
   ]
  },
  {
   "cell_type": "code",
   "execution_count": 28,
   "metadata": {},
   "outputs": [],
   "source": [
    "\n",
    "for i in Yelp_User_Cluster.find({},{'elite':1,'_id':0}):\n",
    "    total=str(i.values())\n",
    "    total_years=len(total.split(','))\n",
    "    \n",
    "     "
   ]
  },
  {
   "cell_type": "code",
   "execution_count": 39,
   "metadata": {},
   "outputs": [],
   "source": [
    "for i in Yelp_User_Cluster.find({},{'user_id':1,'_id':0}):\n",
    "    Yelp_User_Cluster.update_many({}, {\"$set\":{\"elite_total_years\":total_years}},upsert=False)\n",
    "    "
   ]
  },
  {
   "cell_type": "code",
   "execution_count": null,
   "metadata": {},
   "outputs": [],
   "source": [
    " Yelp_User_Cluster.update_many({\"user_id\":i}, {\"$set\":{\"elite_total_years\":total_years}},upsert=False)\n",
    "    "
   ]
  },
  {
   "cell_type": "code",
   "execution_count": null,
   "metadata": {},
   "outputs": [],
   "source": []
  },
  {
   "cell_type": "code",
   "execution_count": null,
   "metadata": {},
   "outputs": [],
   "source": []
  },
  {
   "cell_type": "code",
   "execution_count": null,
   "metadata": {},
   "outputs": [],
   "source": []
  }
 ],
 "metadata": {
  "kernelspec": {
   "display_name": "Python 3",
   "language": "python",
   "name": "python3"
  },
  "language_info": {
   "codemirror_mode": {
    "name": "ipython",
    "version": 3
   },
   "file_extension": ".py",
   "mimetype": "text/x-python",
   "name": "python",
   "nbconvert_exporter": "python",
   "pygments_lexer": "ipython3",
   "version": "3.8.5"
  }
 },
 "nbformat": 4,
 "nbformat_minor": 4
}
